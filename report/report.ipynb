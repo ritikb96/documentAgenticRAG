{
 "cells": [
  {
   "cell_type": "markdown",
   "id": "05542be3",
   "metadata": {},
   "source": [
    "#### Install all the dependencies"
   ]
  },
  {
   "cell_type": "code",
   "execution_count": 1,
   "id": "1c0c51cf",
   "metadata": {},
   "outputs": [
    {
     "data": {
      "text/plain": [
       "True"
      ]
     },
     "execution_count": 1,
     "metadata": {},
     "output_type": "execute_result"
    }
   ],
   "source": [
    "from docling.document_converter import DocumentConverter\n",
    "import langgraph\n",
    "import os\n",
    "from dotenv import load_dotenv\n",
    " \n",
    "docpath = os.path.join('..','app','uploads','state-of-the-union.pdf')\n",
    "os.path.exists(docpath)"
   ]
  },
  {
   "cell_type": "markdown",
   "id": "067afb96",
   "metadata": {},
   "source": [
    "#### Parse the document using docling"
   ]
  },
  {
   "cell_type": "code",
   "execution_count": 2,
   "id": "3ea1a768",
   "metadata": {},
   "outputs": [
    {
     "name": "stderr",
     "output_type": "stream",
     "text": [
      "d:\\code\\docuRAG\\docuRAG-env\\Lib\\site-packages\\tqdm\\auto.py:21: TqdmWarning: IProgress not found. Please update jupyter and ipywidgets. See https://ipywidgets.readthedocs.io/en/stable/user_install.html\n",
      "  from .autonotebook import tqdm as notebook_tqdm\n"
     ]
    }
   ],
   "source": [
    "doclingconverter =  DocumentConverter()\n",
    "doc = doclingconverter.convert(source=docpath).document\n"
   ]
  },
  {
   "cell_type": "markdown",
   "id": "1ca5b1fd",
   "metadata": {},
   "source": [
    "#### Recursive chunking"
   ]
  },
  {
   "cell_type": "code",
   "execution_count": 4,
   "id": "b430bf29",
   "metadata": {},
   "outputs": [
    {
     "name": "stderr",
     "output_type": "stream",
     "text": [
      "Parameter `strict_text` has been deprecated and will be ignored.\n"
     ]
    },
    {
     "name": "stdout",
     "output_type": "stream",
     "text": [
      "page_content='Stand up. Welcome. Welcome, welcome, welcome. And they know how to fight.'\n",
      "page_content='Mr. Prime Minister, welcome to NATO, the strongest military alliance the world has ever seen.'\n"
     ]
    }
   ],
   "source": [
    "from langchain_text_splitters import RecursiveCharacterTextSplitter\n",
    "\n",
    "text = doc.export_to_text()\n",
    "text_splitter = RecursiveCharacterTextSplitter(\n",
    "    # Set a really small chunk size, just to show.\n",
    "    chunk_size=200,\n",
    "    chunk_overlap=20,\n",
    "    is_separator_regex=False,\n",
    "    length_function=len,\n",
    ")\n",
    "\n",
    "recursive_text_chunks = text_splitter.create_documents([text])\n",
    "print(recursive_text_chunks[20])\n",
    "print(recursive_text_chunks[21])"
   ]
  },
  {
   "cell_type": "markdown",
   "id": "614111f5",
   "metadata": {},
   "source": [
    "#### Semantic chunking"
   ]
  },
  {
   "cell_type": "code",
   "execution_count": 5,
   "id": "9d6e7735",
   "metadata": {},
   "outputs": [
    {
     "name": "stdout",
     "output_type": "stream",
     "text": [
      "page_content='I'm not stopping there. My administration has proposed rules to make cable, travel, utilities and online ticket sellers tell you the total price up front so there are no surprises. It matters.'\n",
      "page_content='It matters. And so does this: In November, my team began serious negotiations with a bipartisan group of senators. The result was a bipartisan bill with the toughest set of border security reforms we've ever seen. Oh, you don't think so? Oh, you don't like that bill, huh? That conservatives got together and said was a good bill?'\n"
     ]
    }
   ],
   "source": [
    "from langchain_experimental.text_splitter import SemanticChunker\n",
    "from langchain_openai.embeddings import OpenAIEmbeddings\n",
    "\n",
    "text_splitter = SemanticChunker(OpenAIEmbeddings())\n",
    "\n",
    "semantic_text = text_splitter.create_documents([text])\n",
    "print(semantic_text[20])\n",
    "print(semantic_text[21])\n"
   ]
  },
  {
   "cell_type": "markdown",
   "id": "9bdd3b6a",
   "metadata": {},
   "source": [
    "#### Our custom chunking"
   ]
  },
  {
   "cell_type": "code",
   "execution_count": 6,
   "id": "992436b0",
   "metadata": {},
   "outputs": [
    {
     "name": "stdout",
     "output_type": "stream",
     "text": [
      "Chunking done\n",
      "chunk:  But they failed. America stood. America stood strong and democracy prevailed. We must be honest.\n",
      "chunk We must be honest. The threat to democracy must be defended. My predecessor and some of you here seek to bury the truth about Jan. 6. I will not do that.\n"
     ]
    }
   ],
   "source": [
    "import re\n",
    "from typing import List\n",
    "from nltk.tokenize import sent_tokenize\n",
    "from sentence_transformers import SentenceTransformer\n",
    "from sklearn.metrics.pairwise import cosine_similarity\n",
    "\n",
    "# PARAMETERS (you can change these)\n",
    "similarity_threshold = 0.6\n",
    "min_chunk_sentences = 3\n",
    "max_chunk_sentences = 10\n",
    "overlap = 1\n",
    "chunking_method = 'semantic_chunking'\n",
    "\n",
    "# Load model explicitly here\n",
    "model = SentenceTransformer('all-MiniLM-L6-v2')\n",
    "\n",
    "def preprocess(text: str) -> str:\n",
    "    return re.sub(r'\\s+', ' ', text).strip()\n",
    "\n",
    "def split_paragraphs(text: str) -> List[str]:\n",
    "    paragraphs = re.split(r'\\n{2,}', text)\n",
    "    return [p.strip() for p in paragraphs if p.strip()]\n",
    "\n",
    "def split_sentences(text: str) -> List[str]:\n",
    "    return [s.strip() for s in sent_tokenize(text) if s.strip()]\n",
    "\n",
    "def compute_similarity(sentences: List[str]) -> List[float]:\n",
    "    embeddings = model.encode(sentences)\n",
    "    adjacent_similarities = [\n",
    "        cosine_similarity([embeddings[i]], [embeddings[i + 1]])[0][0]\n",
    "        for i in range(len(embeddings) - 1)\n",
    "    ]\n",
    "    return adjacent_similarities\n",
    "\n",
    "def find_boundaries(adjacent_similarities: List[float], sentences: List[str]) -> List[int]:\n",
    "    boundaries = [0]\n",
    "    sentence_count = 0\n",
    "\n",
    "    for i, sim in enumerate(adjacent_similarities, start=1):\n",
    "        sentence_count += 1\n",
    "        if (sim < similarity_threshold and sentence_count >= min_chunk_sentences) or (sentence_count >= max_chunk_sentences):\n",
    "            boundaries.append(i)\n",
    "            sentence_count = 0\n",
    "\n",
    "    boundaries.append(len(sentences))\n",
    "    return boundaries\n",
    "\n",
    "def semantic_chunk(text: str) -> dict:\n",
    "    text = preprocess(text)\n",
    "    paragraphs = split_paragraphs(text)\n",
    "\n",
    "    all_sentences = []\n",
    "    para_boundaries = []\n",
    "    count = 0\n",
    "    for para in paragraphs:\n",
    "        sents = split_sentences(para)\n",
    "        all_sentences.extend(sents)\n",
    "        count += len(sents)\n",
    "        para_boundaries.append(count)\n",
    "\n",
    "    if not all_sentences:\n",
    "        return {\"chunks\": [], \"chunking_method\": chunking_method}\n",
    "\n",
    "    sim_matrix = compute_similarity(all_sentences)\n",
    "    boundaries = find_boundaries(sim_matrix, all_sentences)\n",
    "\n",
    "    adjusted_boundaries = [boundaries[0]]\n",
    "    for b in boundaries[1:-1]:\n",
    "        close_paras = [pb for pb in para_boundaries if abs(pb - b) <= 2 and pb > adjusted_boundaries[-1]]\n",
    "        if close_paras:\n",
    "            adjusted_boundaries.append(min(close_paras))\n",
    "        else:\n",
    "            adjusted_boundaries.append(b)\n",
    "    adjusted_boundaries.append(boundaries[-1])\n",
    "\n",
    "    chunks = []\n",
    "    for i in range(len(adjusted_boundaries) - 1):\n",
    "        start = adjusted_boundaries[i]\n",
    "        end = adjusted_boundaries[i + 1]\n",
    "        if i > 0 and overlap > 0:\n",
    "            start = max(start - overlap, 0)\n",
    "        chunk_text = ' '.join(all_sentences[start:end])\n",
    "        chunks.append(chunk_text)\n",
    "\n",
    "    print(\"Chunking done\")\n",
    "    return chunks\n",
    "\n",
    "\n",
    "custom_chunking_result = semantic_chunk(text)\n",
    "print(\"chunk: \",custom_chunking_result[20])\n",
    "print(\"chunk\",custom_chunking_result[21])\n"
   ]
  },
  {
   "cell_type": "markdown",
   "id": "44a94e5a",
   "metadata": {},
   "source": [
    "### Embedding Models"
   ]
  },
  {
   "cell_type": "markdown",
   "id": "96e33a6b",
   "metadata": {},
   "source": [
    "For embedding our chunks into embeddings we will use the 3 most popular embedding models:\n",
    "\n",
    "- **text-embedding-3-small** by OpenaAI\n",
    "\n",
    "- **all-MINILM-L6-v2** from HuggingFace\n",
    "\n",
    "- **BAAI/bge-small-en-v1.5** from HuggingFace"
   ]
  },
  {
   "cell_type": "markdown",
   "id": "15cf4df7",
   "metadata": {},
   "source": [
    "let's format the chunks retrieved through chunkers."
   ]
  },
  {
   "cell_type": "code",
   "execution_count": 7,
   "id": "91681b1f",
   "metadata": {},
   "outputs": [],
   "source": [
    "recursive_text= [doc.page_content for doc in recursive_text_chunks] \n",
    "semantic_text_chunks = [doc.page_content for doc in semantic_text]  \n",
    "custom_chunking = custom_chunking_result "
   ]
  },
  {
   "cell_type": "markdown",
   "id": "bedc9fea",
   "metadata": {},
   "source": [
    "### Evaluation Strategy for Chunking and Embedding Comparison\n",
    "\n",
    "To assess the effectiveness of different chunking and embedding combinations, we used the following evaluation approach:\n",
    "\n",
    "- **Sampling:** For each chunking strategy, we randomly sampled 20 text chunks from the document collection.\n",
    "\n",
    "- **Question Generation:** For each sampled chunk, we generated 5 different types of questions (short, detailed, direct, context-based, vague) using a large language model.\n",
    "\n",
    "- **Retrieval and Scoring:** Each question was used to retrieve the top-k relevant chunks based on the embeddings generated by the chosen embedding model.\n",
    "\n",
    "- **Accuracy Calculation:** Accuracy was computed as the fraction of questions where the original chunk was successfully retrieved within the top-k results.\n",
    "\n",
    "- **Latency Measurement:** We recorded the total time taken for embedding, retrieval, and scoring to evaluate the efficiency of each strategy.\n",
    "\n",
    "This method enabled a comprehensive comparison of accuracy and latency across multiple chunking and embedding model pairs.\n"
   ]
  },
  {
   "cell_type": "code",
   "execution_count": 8,
   "id": "4206b0ab",
   "metadata": {},
   "outputs": [
    {
     "name": "stderr",
     "output_type": "stream",
     "text": [
      "C:\\Users\\Ritik\\AppData\\Local\\Temp\\ipykernel_17432\\3543913697.py:13: LangChainDeprecationWarning: The class `HuggingFaceEmbeddings` was deprecated in LangChain 0.2.2 and will be removed in 1.0. An updated version of the class exists in the :class:`~langchain-huggingface package and should be used instead. To use it run `pip install -U :class:`~langchain-huggingface` and import as `from :class:`~langchain_huggingface import HuggingFaceEmbeddings``.\n",
      "  \"embedding_model\": HuggingFaceEmbeddings(model_name=\"all-MiniLM-L6-v2\")\n",
      "C:\\Users\\Ritik\\AppData\\Local\\Temp\\ipykernel_17432\\3543913697.py:18: LangChainDeprecationWarning: The class `HuggingFaceBgeEmbeddings` was deprecated in LangChain 0.2.2 and will be removed in 1.0. An updated version of the class exists in the :class:`~langchain-huggingface package and should be used instead. To use it run `pip install -U :class:`~langchain-huggingface` and import as `from :class:`~langchain_huggingface import HuggingFaceEmbeddings``.\n",
      "  \"embedding_model\": HuggingFaceBgeEmbeddings(model_name=\"BAAI/bge-small-en-v1.5\")\n"
     ]
    }
   ],
   "source": [
    "from langchain.embeddings import HuggingFaceEmbeddings,HuggingFaceBgeEmbeddings\n",
    "evaluation_pairs = [\n",
    "    {\n",
    "        \"chunking_strategy\": \"recursive\",\n",
    "        \"chunks\": recursive_text,\n",
    "        \"embedding_model\": OpenAIEmbeddings(model=\"text-embedding-3-small\")\n",
    "    },\n",
    "    {\n",
    "        \"chunking_strategy\": \"recursive\",\n",
    "        \"chunks\": recursive_text,\n",
    "        \"embedding_model\": HuggingFaceEmbeddings(model_name=\"all-MiniLM-L6-v2\")\n",
    "    },\n",
    "    {\n",
    "        \"chunking_strategy\": \"recursive\",\n",
    "        \"chunks\": recursive_text,\n",
    "        \"embedding_model\": HuggingFaceBgeEmbeddings(model_name=\"BAAI/bge-small-en-v1.5\")\n",
    "    },\n",
    "    {\n",
    "        \"chunking_strategy\": \"semantic\",\n",
    "        \"chunks\": semantic_text_chunks,\n",
    "        \"embedding_model\": OpenAIEmbeddings(model=\"text-embedding-3-small\")\n",
    "    },\n",
    "    {\n",
    "        \"chunking_strategy\": \"semantic\",\n",
    "        \"chunks\": semantic_text_chunks,\n",
    "        \"embedding_model\": HuggingFaceEmbeddings(model_name=\"all-MiniLM-L6-v2\")\n",
    "    },\n",
    "    {\n",
    "        \"chunking_strategy\": \"semantic\",\n",
    "        \"chunks\": semantic_text_chunks,\n",
    "        \"embedding_model\": HuggingFaceBgeEmbeddings(model_name=\"BAAI/bge-small-en-v1.5\")\n",
    "    },\n",
    "    {\n",
    "        \"chunking_strategy\": \"custom\",\n",
    "        \"chunks\": custom_chunking_result,\n",
    "        \"embedding_model\": OpenAIEmbeddings(model=\"text-embedding-3-small\")\n",
    "    },\n",
    "    {\n",
    "        \"chunking_strategy\": \"custom\",\n",
    "        \"chunks\": custom_chunking_result,\n",
    "        \"embedding_model\": HuggingFaceEmbeddings(model_name=\"all-MiniLM-L6-v2\")\n",
    "    },\n",
    "    {\n",
    "        \"chunking_strategy\": \"custom\",\n",
    "        \"chunks\": custom_chunking_result,\n",
    "        \"embedding_model\": HuggingFaceBgeEmbeddings(model_name=\"BAAI/bge-small-en-v1.5\")\n",
    "    }\n",
    "]"
   ]
  },
  {
   "cell_type": "markdown",
   "id": "0b178749",
   "metadata": {},
   "source": [
    "The functions **generate_questions_per_chunk**, **evaluate_overall_accuracy_and_latency** have been imported from the reportHelper.py file present in the report folder."
   ]
  },
  {
   "cell_type": "code",
   "execution_count": 12,
   "id": "f86af2b8",
   "metadata": {},
   "outputs": [
    {
     "name": "stdout",
     "output_type": "stream",
     "text": [
      "Strategy: recursive, Model: OpenAIEmbeddings, Accuracy: 90.00%, Latency: 3.422s\n",
      "Strategy: recursive, Model: HuggingFaceEmbeddings, Accuracy: 75.00%, Latency: 1.733s\n",
      "Strategy: recursive, Model: HuggingFaceBgeEmbeddings, Accuracy: 73.00%, Latency: 3.564s\n",
      "Strategy: semantic, Model: OpenAIEmbeddings, Accuracy: 89.00%, Latency: 2.216s\n",
      "Strategy: semantic, Model: HuggingFaceEmbeddings, Accuracy: 79.00%, Latency: 0.999s\n",
      "Strategy: semantic, Model: HuggingFaceBgeEmbeddings, Accuracy: 87.00%, Latency: 4.359s\n",
      "Strategy: custom, Model: OpenAIEmbeddings, Accuracy: 87.00%, Latency: 3.154s\n",
      "Strategy: custom, Model: HuggingFaceEmbeddings, Accuracy: 68.00%, Latency: 2.197s\n",
      "Strategy: custom, Model: HuggingFaceBgeEmbeddings, Accuracy: 78.00%, Latency: 4.342s\n"
     ]
    }
   ],
   "source": [
    "import sys\n",
    "from langchain_openai import OpenAIEmbeddings\n",
    "embedding_model = OpenAIEmbeddings(model=\"text-embedding-3-small\")\n",
    "root_dir = os.path.abspath(os.path.join(os.getcwd(), '..'))\n",
    "if root_dir not in sys.path:\n",
    "    sys.path.append(root_dir)\n",
    "\n",
    "from report import reportHelper\n",
    "\n",
    "for pair in evaluation_pairs:\n",
    "    chunks = pair[\"chunks\"]\n",
    "    model = pair[\"embedding_model\"]\n",
    "    strategy = pair[\"chunking_strategy\"]\n",
    "\n",
    "    # Evaluate\n",
    "    questions_by_chunk = reportHelper.generate_questions_per_chunk(chunks)\n",
    "\n",
    "    accuracy, latency = reportHelper.evaluate_overall_accuracy_and_latency(\n",
    "        questions_by_chunk=questions_by_chunk,\n",
    "        all_chunks=chunks,\n",
    "        embedding_model=model,\n",
    "        k=3\n",
    "    )\n",
    "\n",
    "    print(f\"Strategy: {strategy}, Model: {type(model).__name__}, Accuracy: {accuracy:.2%}, Latency: {latency:.3f}s\")\n"
   ]
  },
  {
   "cell_type": "markdown",
   "id": "1dbc04f2",
   "metadata": {},
   "source": [
    "#### Accuracy "
   ]
  },
  {
   "cell_type": "code",
   "execution_count": 27,
   "id": "e8566841",
   "metadata": {},
   "outputs": [
    {
     "data": {
      "image/png": "[encoded data removed]",
      "text/plain": [
       "<Figure size 800x700 with 1 Axes>"
      ]
     },
     "metadata": {},
     "output_type": "display_data"
    }
   ],
   "source": [
    "import matplotlib.pyplot as plt\n",
    "import numpy as np\n",
    "\n",
    "data = [\n",
    "    (\"recursive\", \"text-embedding-3-small\", 90.0),\n",
    "    (\"recursive\", \"all-MiniLM-L6-v2\", 75.0),\n",
    "    (\"recursive\", \"bge-small-en-v1.5\", 73.0),\n",
    "    (\"semantic\", \"text-embedding-3-small\", 89.0),\n",
    "    (\"semantic\", \"all-MiniLM-L6-v2\", 79.0),\n",
    "    (\"semantic\", \"bge-small-en-v1.5\", 87.0),\n",
    "    (\"custom\", \"text-embedding-3-small\", 87.0),\n",
    "    (\"custom\", \"all-MiniLM-L6-v2\", 68.0),\n",
    "    (\"custom\", \"bge-small-en-v1.5\", 78.0),\n",
    "]\n",
    "\n",
    "strategies = [\"recursive\", \"semantic\", \"custom\"]\n",
    "models = [\"text-embedding-3-small\", \"all-MiniLM-L6-v2\", \"bge-small-en-v1.5\"]\n",
    "x = np.arange(len(strategies))\n",
    "width = 0.25\n",
    "\n",
    "plt.figure(figsize=(8, 7))\n",
    "\n",
    "for i, model in enumerate(models):\n",
    "    values = [d[2] for d in data if d[1] == model]\n",
    "    bars = plt.bar(x + i * width, values, width, label=model)\n",
    "    for bar in bars:\n",
    "        plt.text(bar.get_x() + bar.get_width() / 2, bar.get_height() + 1, f\"{bar.get_height():.0f}%\", ha='center', fontsize=9)\n",
    "\n",
    "plt.ylabel(\"Accuracy (%)\")\n",
    "plt.title(\"Accuracy by Chunking Strategy and Model\")\n",
    "plt.xticks(x + width, strategies)\n",
    "plt.ylim(0, 105)\n",
    "plt.legend()\n",
    "plt.tight_layout()\n",
    "plt.show()\n"
   ]
  },
  {
   "cell_type": "markdown",
   "id": "57c1639f",
   "metadata": {},
   "source": [
    "The highest retrieval accuracy (90%) was achieved using the recursive chunking strategy with the text-embedding-3-small model. Overall, OpenAI’s model consistently outperformed others \n",
    "\n",
    "across all chunking strategies. Among alternatives, BGE performed better than MiniLM for semantic and custom chunking. Custom chunks showed the most variation, with accuracy ranging from \n",
    "\n",
    "68% to 87%, highlighting the impact of embedding choice."
   ]
  },
  {
   "cell_type": "markdown",
   "id": "786d4746",
   "metadata": {},
   "source": [
    "#### Latency"
   ]
  },
  {
   "cell_type": "code",
   "execution_count": 28,
   "id": "80fa3052",
   "metadata": {},
   "outputs": [
    {
     "data": {
      "image/png": "[encoded data removed]",
      "text/plain": [
       "<Figure size 800x500 with 1 Axes>"
      ]
     },
     "metadata": {},
     "output_type": "display_data"
    }
   ],
   "source": [
    "latency_data = [\n",
    "    (\"recursive\", \"text-embedding-3-small\", 3.422),\n",
    "    (\"recursive\", \"all-MiniLM-L6-v2\", 1.733),\n",
    "    (\"recursive\", \"bge-small-en-v1.5\", 3.564),\n",
    "    (\"semantic\", \"text-embedding-3-small\", 2.216),\n",
    "    (\"semantic\", \"all-MiniLM-L6-v2\", 0.999),\n",
    "    (\"semantic\", \"bge-small-en-v1.5\", 4.359),\n",
    "    (\"custom\", \"text-embedding-3-small\", 3.154),\n",
    "    (\"custom\", \"all-MiniLM-L6-v2\", 2.197),\n",
    "    (\"custom\", \"bge-small-en-v1.5\", 4.342),\n",
    "]\n",
    "\n",
    "plt.figure(figsize=(8, 5))\n",
    "\n",
    "for i, model in enumerate(models):\n",
    "    values = [d[2] for d in latency_data if d[1] == model]\n",
    "    bars = plt.bar(x + i * width, values, width, label=model)\n",
    "    for bar in bars:\n",
    "        plt.text(bar.get_x() + bar.get_width() / 2, bar.get_height() + 0.1, f\"{bar.get_height():.2f}s\", ha='center', fontsize=9)\n",
    "\n",
    "plt.ylabel(\"Latency (seconds)\")\n",
    "plt.title(\"Latency by Chunking Strategy and Model\")\n",
    "plt.xticks(x + width, strategies)\n",
    "plt.ylim(0, 6)\n",
    "plt.legend()\n",
    "plt.tight_layout()\n",
    "plt.show()\n"
   ]
  },
  {
   "cell_type": "markdown",
   "id": "f10c4825",
   "metadata": {},
   "source": [
    "Latency analysis revealed notable differences among embedding models. The all-MiniLM-L6-v2 consistently demonstrated the lowest latency, achieving sub-second performance (as low as 0.\n",
    "\n",
    "999s with semantic chunking), making it ideal for low-latency applications. In contrast, bge-small-en-v1.5 showed the highest latency, particularly with semantic and custom chunking (up \n",
    "\n",
    "to 4.359s), indicating heavier computational overhead. text-embedding-3-small maintained moderate latency across all strategies (ranging from 2.2s to 3.4s), offering a balanced trade-off \n",
    "\n",
    "between performance and responsiveness."
   ]
  },
  {
   "cell_type": "markdown",
   "id": "dc025e15",
   "metadata": {},
   "source": [
    "#### Agent Graph"
   ]
  },
  {
   "cell_type": "markdown",
   "id": "dbedcc10",
   "metadata": {},
   "source": [
    "Our LangGraph agent uses a stateful, modular graph to handle complex user queries. The flow begins with a router node that directs requests to either RAG retrieval, direct answering, or \n",
    "\n",
    "interview booking. The rag_lookup node optionally routes to web_search if external data is needed. All paths eventually converge at the answer node, ensuring consistent final responses. \n",
    "\n",
    "The agent is extensible and ideal for task-specific logic like bookings or search-enhanced Q&A."
   ]
  },
  {
   "cell_type": "code",
   "execution_count": 33,
   "id": "aab6b487",
   "metadata": {},
   "outputs": [
    {
     "data": {
      "image/png": "[encoded data removed]",
      "text/plain": [
       "<langgraph.graph.state.CompiledStateGraph object at 0x00000211C9FAC910>"
      ]
     },
     "execution_count": 33,
     "metadata": {},
     "output_type": "execute_result"
    }
   ],
   "source": [
    "from langgraph.graph import StateGraph, END\n",
    "from app.services.agent import AgentState\n",
    "from langchain_core.tools import tool\n",
    "from typing import Literal, Optional\n",
    "from pydantic import BaseModel\n",
    "\n",
    "@tool\n",
    "def rag_search_tool(query: str) -> str:\n",
    "    \"\"\"RAG tool search\"\"\"\n",
    "    pass\n",
    "\n",
    "@tool\n",
    "def web_search_tool(query: str) -> str:\n",
    "    \"\"\"Fetch up-to-date web information using TavilySearch.\"\"\"\n",
    "    # res = tavily.invoke({\"query\": query})\n",
    "    # return \"\\n\".join(result[\"content\"] for result in res[\"results\"])\n",
    "    pass\n",
    "\n",
    "class RouteDecision(BaseModel):\n",
    "    route: Literal[\"rag\", \"answer\", \"end\"]\n",
    "    reply: Optional[str] = None\n",
    "\n",
    "\n",
    "class RagJudge(BaseModel):\n",
    "    sufficient: bool\n",
    "\n",
    "def _router_node( state: AgentState) -> AgentState:\n",
    "            # q = state[\"messages\"][-1].content\n",
    "            # decision: RouteDecision = llm_router.invoke([\n",
    "            #     SystemMessage(content=\"You are a routing agent. Decide whether to answer from memory (RAG), ask LLM directly (answer), or end the conversation.\"),\n",
    "            #     HumanMessage(content=q)\n",
    "            # ])\n",
    "            # new_state = {**state, \"route\": decision.route}\n",
    "            # if decision.route == \"end\":\n",
    "            #     new_state[\"messages\"].append(AIMessage(content=decision.reply or \"Goodbye!\"))\n",
    "            # return new_state\n",
    "            pass\n",
    "\n",
    "def _rag_node( state: AgentState) -> AgentState:\n",
    "            # q = state[\"messages\"][-1].content\n",
    "            # chunks = rag_search_tool.invoke({\"query\": q})\n",
    "            # prompt = f\"Question: {q}\\nDocs: {chunks[:300]}…\"\n",
    "            # verdict: RagJudge = llm_judge.invoke([HumanMessage(content=prompt)])\n",
    "            # return {**state, \"rag\": chunks, \"route\": \"answer\" if verdict.sufficient else \"web\"}\n",
    "            pass\n",
    "\n",
    "def _web_node( state: AgentState) -> AgentState:\n",
    "            # q = state[\"messages\"][-1].content\n",
    "            # web_snippets = web_search_tool.invoke({\"query\": q})\n",
    "            # return {**state, \"web\": web_snippets, \"route\": \"answer\"}\n",
    "            pass\n",
    "\n",
    "def _answer_node( state: AgentState) -> AgentState:\n",
    "            # context = \"\"\n",
    "            # if state.get(\"rag\"):\n",
    "            #     context += f\"Knowledge:\\n{state['rag']}\\n\\n\"\n",
    "            # if state.get(\"web\"):\n",
    "            #     context += f\"Web:\\n{state['web']}\\n\\n\"\n",
    "\n",
    "            # user_query = state[\"messages\"][-1].content\n",
    "            # final_answer = llm_answer.invoke([\n",
    "            #     (\"system\", f\"You are an assistant. Use the provided context to answer.\\n{context}\"),\n",
    "            #     (\"user\", user_query)])\n",
    "        pass\n",
    "\n",
    "def _booking_node(state:AgentState) -> AgentState:\n",
    "        #for booking interview and sending email\n",
    "        pass\n",
    "\n",
    "def from_router(state: AgentState) -> str:\n",
    "        # The router node sets `route` in the state\n",
    "        return state.get(\"route\", \"end\")\n",
    "\n",
    "def after_rag(state: AgentState) -> str:\n",
    "        # After rag node, route based on `route` key\n",
    "        return state.get(\"route\", \"answer\")\n",
    "\n",
    "agent_graph = StateGraph(AgentState)\n",
    "        \n",
    "agent_graph.add_node(\"router\", _router_node)\n",
    "agent_graph.add_node(\"rag_lookup\", _rag_node)\n",
    "agent_graph.add_node(\"web_search\", _web_node)\n",
    "agent_graph.add_node(\"answer\", _answer_node)\n",
    "agent_graph.add_node(\"book_interview\", _booking_node)\n",
    "\n",
    "agent_graph.set_entry_point(\"router\")\n",
    "\n",
    "agent_graph.add_conditional_edges(\"router\", from_router, {\n",
    "            \"rag\": \"rag_lookup\",\n",
    "            \"answer\": \"answer\",   \n",
    "            \"answer\": \"answer\",     \n",
    "            \"interview\":\"book_interview\"\n",
    "        })\n",
    "\n",
    "agent_graph.add_conditional_edges(\"rag_lookup\", after_rag, {\n",
    "            \"web\": \"web_search\",\n",
    "            \"answer\": \"answer\"\n",
    "        })\n",
    "agent_graph.add_edge(\"web_search\", \"answer\")\n",
    "agent_graph.add_edge(\"book_interview\",END)\n",
    "agent_graph.add_edge(\"answer\", END)\n",
    "agent_graph.compile()"
   ]
  }
 ],
 "metadata": {
  "kernelspec": {
   "display_name": "docuRAG-env",
   "language": "python",
   "name": "python3"
  },
  "language_info": {
   "codemirror_mode": {
    "name": "ipython",
    "version": 3
   },
   "file_extension": ".py",
   "mimetype": "text/x-python",
   "name": "python",
   "nbconvert_exporter": "python",
   "pygments_lexer": "ipython3",
   "version": "3.13.5"
  }
 },
 "nbformat": 4,
 "nbformat_minor": 5
}
